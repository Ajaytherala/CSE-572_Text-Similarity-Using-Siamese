{
  "nbformat": 4,
  "nbformat_minor": 0,
  "metadata": {
    "colab": {
      "provenance": []
    },
    "kernelspec": {
      "name": "python3",
      "display_name": "Python 3"
    },
    "language_info": {
      "name": "python"
    }
  },
  "cells": [
    {
      "cell_type": "code",
      "execution_count": null,
      "metadata": {
        "id": "C7xoNHUirb5G"
      },
      "outputs": [],
      "source": [
        "!unzip \"/content/Siamese-LSTM-for-Semantic-Similarity-PyTorch-main.zip\""
      ]
    },
    {
      "cell_type": "code",
      "source": [
        "import os\n",
        "os.getcwd()"
      ],
      "metadata": {
        "colab": {
          "base_uri": "https://localhost:8080/",
          "height": 35
        },
        "id": "tBWI-RJQstYu",
        "outputId": "1b7a4265-dbe2-4293-e51b-b52de266266a"
      },
      "execution_count": null,
      "outputs": [
        {
          "output_type": "execute_result",
          "data": {
            "text/plain": [
              "'/content'"
            ],
            "application/vnd.google.colaboratory.intrinsic+json": {
              "type": "string"
            }
          },
          "metadata": {},
          "execution_count": 1
        }
      ]
    },
    {
      "cell_type": "code",
      "source": [
        "os.chdir(\"/content/Siamese-LSTM-for-Semantic-Similarity-PyTorch-main/Siamese_LSTM\")"
      ],
      "metadata": {
        "id": "QKt0TlPOszAj"
      },
      "execution_count": null,
      "outputs": []
    },
    {
      "cell_type": "code",
      "source": [
        "os.getcwd()"
      ],
      "metadata": {
        "colab": {
          "base_uri": "https://localhost:8080/",
          "height": 35
        },
        "id": "L2AI0mdOs1oK",
        "outputId": "53cedf17-0f26-413a-c2e8-42d5cae8ac84"
      },
      "execution_count": null,
      "outputs": [
        {
          "output_type": "execute_result",
          "data": {
            "text/plain": [
              "'/content/Siamese-LSTM-for-Semantic-Similarity-PyTorch-main/Siamese_LSTM'"
            ],
            "application/vnd.google.colaboratory.intrinsic+json": {
              "type": "string"
            }
          },
          "metadata": {},
          "execution_count": 8
        }
      ]
    },
    {
      "cell_type": "code",
      "source": [
        "!pip install wandb"
      ],
      "metadata": {
        "colab": {
          "base_uri": "https://localhost:8080/"
        },
        "id": "pEHbMPvYtHsp",
        "outputId": "2eefa4ab-62c0-4b7d-ce61-5c1e6830b3b2"
      },
      "execution_count": null,
      "outputs": [
        {
          "output_type": "stream",
          "name": "stdout",
          "text": [
            "Installing collected packages: smmap, setproctitle, sentry-sdk, docker-pycreds, gitdb, GitPython, wandb\n",
            "Successfully installed GitPython-3.1.43 docker-pycreds-0.4.0 gitdb-4.0.11 sentry-sdk-1.45.0 setproctitle-1.3.3 smmap-5.0.1 wandb-0.16.6\n"
          ]
        }
      ]
    },
    {
      "cell_type": "code",
      "source": [
        "from siamese_lstm.model.network import EmbeddingLSTMNet, SiameseNetwork\n",
        "from siamese_lstm.model.model_trainer import ModelTrainer\n",
        "from siamese_lstm.model.utils import create_pretrained_weights, plotConfusionMatrix, save_model\n",
        "from siamese_lstm.dataset.quora_dataset import QuoraDataset, collate\n",
        "from siamese_lstm.dataset.utils import convert_data_to_tuples, text_to_wordlist\n",
        "from siamese_lstm.dataset.language import Language\n",
        "from siamese_lstm.model.network import EmbeddingLSTMNet, SiameseNetwork\n",
        "from siamese_lstm.model.model_trainer import ModelTrainer\n",
        "from siamese_lstm.model.utils import create_pretrained_weights, plotConfusionMatrix, save_model, load_model"
      ],
      "metadata": {
        "id": "7mrdrDQXsTG4",
        "colab": {
          "base_uri": "https://localhost:8080/",
          "height": 384
        },
        "outputId": "cb8054af-6080-4f78-8a85-b1134719ea91"
      },
      "execution_count": null,
      "outputs": [
        {
          "output_type": "error",
          "ename": "ModuleNotFoundError",
          "evalue": "No module named 'siamese_lstm'",
          "traceback": [
            "\u001b[0;31m---------------------------------------------------------------------------\u001b[0m",
            "\u001b[0;31mModuleNotFoundError\u001b[0m                       Traceback (most recent call last)",
            "\u001b[0;32m<ipython-input-2-3b3e63d2ee3a>\u001b[0m in \u001b[0;36m<cell line: 1>\u001b[0;34m()\u001b[0m\n\u001b[0;32m----> 1\u001b[0;31m \u001b[0;32mfrom\u001b[0m \u001b[0msiamese_lstm\u001b[0m\u001b[0;34m.\u001b[0m\u001b[0mmodel\u001b[0m\u001b[0;34m.\u001b[0m\u001b[0mnetwork\u001b[0m \u001b[0;32mimport\u001b[0m \u001b[0mEmbeddingLSTMNet\u001b[0m\u001b[0;34m,\u001b[0m \u001b[0mSiameseNetwork\u001b[0m\u001b[0;34m\u001b[0m\u001b[0;34m\u001b[0m\u001b[0m\n\u001b[0m\u001b[1;32m      2\u001b[0m \u001b[0;32mfrom\u001b[0m \u001b[0msiamese_lstm\u001b[0m\u001b[0;34m.\u001b[0m\u001b[0mmodel\u001b[0m\u001b[0;34m.\u001b[0m\u001b[0mmodel_trainer\u001b[0m \u001b[0;32mimport\u001b[0m \u001b[0mModelTrainer\u001b[0m\u001b[0;34m\u001b[0m\u001b[0;34m\u001b[0m\u001b[0m\n\u001b[1;32m      3\u001b[0m \u001b[0;32mfrom\u001b[0m \u001b[0msiamese_lstm\u001b[0m\u001b[0;34m.\u001b[0m\u001b[0mmodel\u001b[0m\u001b[0;34m.\u001b[0m\u001b[0mutils\u001b[0m \u001b[0;32mimport\u001b[0m \u001b[0mcreate_pretrained_weights\u001b[0m\u001b[0;34m,\u001b[0m \u001b[0mplotConfusionMatrix\u001b[0m\u001b[0;34m,\u001b[0m \u001b[0msave_model\u001b[0m\u001b[0;34m\u001b[0m\u001b[0;34m\u001b[0m\u001b[0m\n\u001b[1;32m      4\u001b[0m \u001b[0;32mfrom\u001b[0m \u001b[0msiamese_lstm\u001b[0m\u001b[0;34m.\u001b[0m\u001b[0mdataset\u001b[0m\u001b[0;34m.\u001b[0m\u001b[0mquora_dataset\u001b[0m \u001b[0;32mimport\u001b[0m \u001b[0mQuoraDataset\u001b[0m\u001b[0;34m,\u001b[0m \u001b[0mcollate\u001b[0m\u001b[0;34m\u001b[0m\u001b[0;34m\u001b[0m\u001b[0m\n\u001b[1;32m      5\u001b[0m \u001b[0;32mfrom\u001b[0m \u001b[0msiamese_lstm\u001b[0m\u001b[0;34m.\u001b[0m\u001b[0mdataset\u001b[0m\u001b[0;34m.\u001b[0m\u001b[0mutils\u001b[0m \u001b[0;32mimport\u001b[0m \u001b[0mconvert_data_to_tuples\u001b[0m\u001b[0;34m,\u001b[0m \u001b[0mtext_to_wordlist\u001b[0m\u001b[0;34m\u001b[0m\u001b[0;34m\u001b[0m\u001b[0m\n",
            "\u001b[0;31mModuleNotFoundError\u001b[0m: No module named 'siamese_lstm'",
            "",
            "\u001b[0;31m---------------------------------------------------------------------------\u001b[0;32m\nNOTE: If your import is failing due to a missing package, you can\nmanually install dependencies using either !pip or !apt.\n\nTo view examples of installing some common dependencies, click the\n\"Open Examples\" button below.\n\u001b[0;31m---------------------------------------------------------------------------\u001b[0m\n"
          ],
          "errorDetails": {
            "actions": [
              {
                "action": "open_url",
                "actionText": "Open Examples",
                "url": "/notebooks/snippets/importing_libraries.ipynb"
              }
            ]
          }
        }
      ]
    },
    {
      "cell_type": "code",
      "source": [
        "import os\n",
        "import pandas as pd\n",
        "import numpy as np\n",
        "import wandb\n",
        "\n",
        "import torch\n",
        "import torch.nn as nn\n",
        "\n",
        "from torch.utils.data import DataLoader, SubsetRandomSampler"
      ],
      "metadata": {
        "id": "0L4r28M6s4QZ"
      },
      "execution_count": null,
      "outputs": []
    },
    {
      "cell_type": "code",
      "source": [
        "ROOT_PATH = os.getcwd()\n",
        "DATA_FOLDER_PATH = ROOT_PATH + '/data'\n",
        "GOOGLE_EMBEDDING_FOLDER_PATH = DATA_FOLDER_PATH + '/google embedding'\n",
        "GOOGLE_EMBEDDING = GOOGLE_EMBEDDING_FOLDER_PATH + '/GoogleNews-vectors-negative300.bin'\n",
        "MODEL_FOLDER_PATH = ROOT_PATH\n",
        "# important paths\n",
        "DATASET_FILE_PATH = DATA_FOLDER_PATH + '/mini_quora_dataset_30_50_50k.csv'\n",
        "EMBEDDING_PATH = GOOGLE_EMBEDDING_FOLDER_PATH + GOOGLE_EMBEDDING\n",
        "\n",
        "# general variables\n",
        "EMBEDDING_REQUIRES_GRAD = False\n",
        "NUM_LAYERS = 1"
      ],
      "metadata": {
        "id": "Y21nvUM2taIP"
      },
      "execution_count": null,
      "outputs": []
    },
    {
      "cell_type": "code",
      "source": [
        "hparams = {\n",
        "    'threshold': torch.Tensor([0.5]),  # threshold for determining similiarity\n",
        "    'learning_rate': 1e-03,  # learning rate\n",
        "    'epoch': 50,  # number of epochs\n",
        "    'batch_size': 32,  # batch_size\n",
        "    'hidden_dim': 100,  # number of hidden dimension\n",
        "    'embedding_dim': 300,  # number of embedding dimension\n",
        "    'dropout': 0.0,  # dropout\n",
        "    'remove_stopwords': False,  # removes stopwords\n",
        "    'stem_words': False,  # remove stem words\n",
        "    'simple': True,  # chooses simple or more complex model\n",
        "    'log_to_wandb': False,  # chooses to log to wandb or not\n",
        "}"
      ],
      "metadata": {
        "id": "QriPx3X7t7IG"
      },
      "execution_count": null,
      "outputs": []
    },
    {
      "cell_type": "code",
      "source": [
        "df_train = pd.read_csv(\"/content/train.csv\")\n",
        "df_val = pd.read_csv(\"/content/validation.csv\")"
      ],
      "metadata": {
        "id": "E6Eoixxkt9bV"
      },
      "execution_count": null,
      "outputs": []
    },
    {
      "cell_type": "code",
      "source": [
        "df_train.loc[3][\"support\"]"
      ],
      "metadata": {
        "colab": {
          "base_uri": "https://localhost:8080/",
          "height": 35
        },
        "id": "JqBWE3H2hU6k",
        "outputId": "15a2f3dc-6f30-4699-c3e6-fb2a3d76a018"
      },
      "execution_count": null,
      "outputs": [
        {
          "output_type": "execute_result",
          "data": {
            "text/plain": [
              "'All radioactive decay is dangerous to living things, but alpha decay is the least dangerous.'"
            ],
            "application/vnd.google.colaboratory.intrinsic+json": {
              "type": "string"
            }
          },
          "metadata": {},
          "execution_count": 10
        }
      ]
    },
    {
      "cell_type": "code",
      "source": [
        "q_pair = []\n",
        "labels = []\n",
        "for _, row in df_train.iterrows():\n",
        "\n",
        "    q1 = text_to_wordlist(str(row['question']), hparams[\"remove_stopwords\"], hparams[\"stem_words\"])\n",
        "    c_answer = text_to_wordlist(str(row['correct_answer']), hparams[\"remove_stopwords\"], hparams[\"stem_words\"])\n",
        "    if q1 and c_answer:\n",
        "      q_pair.append((q1, c_answer))\n",
        "      labels.append(1)\n",
        "    for i in range(3):\n",
        "      q2 = text_to_wordlist(str(row[f'distractor{i+1}']), hparams[\"remove_stopwords\"], hparams[\"stem_words\"])\n",
        "      if q1 and q2:\n",
        "          q_pair.append((q1, q2))\n",
        "          labels.append(0)"
      ],
      "metadata": {
        "id": "a59_J9scg5v6"
      },
      "execution_count": null,
      "outputs": []
    },
    {
      "cell_type": "code",
      "source": [
        "import numpy as np\n"
      ],
      "metadata": {
        "id": "IV5XJ-GBMvkU"
      },
      "execution_count": null,
      "outputs": []
    },
    {
      "cell_type": "code",
      "source": [
        "q_pair_val = []\n",
        "labels_val = []\n",
        "for _, row in df_val.iterrows():\n",
        "\n",
        "    q1 = text_to_wordlist(str(row['question']), hparams[\"remove_stopwords\"], hparams[\"stem_words\"])\n",
        "    c_answer = text_to_wordlist(str(row['correct_answer']), hparams[\"remove_stopwords\"], hparams[\"stem_words\"])\n",
        "    if q1 and c_answer:\n",
        "      q_pair_val.append((q1, c_answer))\n",
        "      labels_val.append(1)\n",
        "    for i in range(3):\n",
        "      q2 = text_to_wordlist(str(row[f'distractor{i+1}']), hparams[\"remove_stopwords\"], hparams[\"stem_words\"])\n",
        "      if q1 and q2:\n",
        "          q_pair_val.append((q1, q2))\n",
        "          labels_val.append(0)"
      ],
      "metadata": {
        "id": "PD9r1uWQkx5X"
      },
      "execution_count": null,
      "outputs": []
    },
    {
      "cell_type": "code",
      "source": [
        "language = Language()\n",
        "for data in [q_pair]:\n",
        "    for question_pair in data:\n",
        "        q1 = question_pair[0]\n",
        "        q2 = question_pair[1]\n",
        "        language.addSentence(q1)\n",
        "        language.addSentence(q2)\n",
        "\n",
        "for data in [q_pair_val]:\n",
        "    for question_pair in data:\n",
        "        q1 = question_pair[0]\n",
        "        q2 = question_pair[1]\n",
        "        language.addSentence(q1)\n",
        "        language.addSentence(q2)"
      ],
      "metadata": {
        "id": "CpGbjgOXuBGU"
      },
      "execution_count": null,
      "outputs": []
    },
    {
      "cell_type": "code",
      "source": [
        "science_dataset = QuoraDataset(q_pair, language.word2index, labels)\n",
        "science_dataset_val = QuoraDataset(q_pair_val, language.word2index, labels_val)"
      ],
      "metadata": {
        "id": "fVCdbVBzuwHr"
      },
      "execution_count": null,
      "outputs": []
    },
    {
      "cell_type": "code",
      "source": [
        "for sample in science_dataset_val:\n",
        "    print('question 1:', sample['q1'])\n",
        "    print('question 2:', sample['q2'])\n",
        "    print('tokens  q1:', sample['q1_token'])\n",
        "    print('tokens  q2:', sample['q2_token'])\n",
        "    print('labels    :', sample['labels'])\n",
        "    break"
      ],
      "metadata": {
        "colab": {
          "base_uri": "https://localhost:8080/"
        },
        "id": "Y3kKhGWbubgr",
        "outputId": "facb25db-3ee0-4b42-e13f-d774e5a092b2"
      },
      "execution_count": null,
      "outputs": [
        {
          "output_type": "stream",
          "name": "stdout",
          "text": [
            "question 1: who proposed the theory of evolution by natural selection\n",
            "question 2: darwin\n",
            "tokens  q1: [3050, 5719, 30, 2352, 3, 360, 116, 506, 960]\n",
            "tokens  q2: [4935]\n",
            "labels    : 1\n"
          ]
        }
      ]
    },
    {
      "cell_type": "code",
      "source": [
        "dataset_size = len(science_dataset)\n",
        "train_indices = list(range(dataset_size))\n",
        "\n",
        "val_dataset_size = len(science_dataset_val)\n",
        "val_indices = list(range(val_dataset_size))\n",
        "\n",
        "\n",
        "shuffle_dataset = True\n",
        "random_seed = 46\n",
        "\n",
        "if shuffle_dataset :\n",
        "    np.random.seed(random_seed)\n",
        "    np.random.shuffle(train_indices)\n",
        "\n",
        "train_sampler = SubsetRandomSampler(train_indices)\n",
        "val_sampler = SubsetRandomSampler(val_indices)\n",
        "\n",
        "train_dataloader = torch.utils.data.DataLoader(science_dataset, batch_size=hparams['batch_size'], sampler=train_sampler, collate_fn=collate)\n",
        "val_dataloader = torch.utils.data.DataLoader(science_dataset_val, batch_size=hparams['batch_size'], sampler=val_sampler, collate_fn=collate)\n",
        "\n",
        "print('Training Set Size {}, Validation Set Size {},'.format(len(train_indices), len(val_indices)))"
      ],
      "metadata": {
        "colab": {
          "base_uri": "https://localhost:8080/"
        },
        "id": "pJ9SuRVIjmic",
        "outputId": "0cccb6e6-30d1-4e9f-bd4a-5f8e13de3405"
      },
      "execution_count": null,
      "outputs": [
        {
          "output_type": "stream",
          "name": "stdout",
          "text": [
            "Training Set Size 46715, Validation Set Size 4000,\n"
          ]
        }
      ]
    },
    {
      "cell_type": "code",
      "source": [
        "pretrained_weights = torch.load('pretrained_weights.pt')\n",
        "pretrained_weights"
      ],
      "metadata": {
        "colab": {
          "base_uri": "https://localhost:8080/"
        },
        "id": "kbmg5SU7jmlG",
        "outputId": "6425cec3-c91a-4c2c-b5c5-444e21fdc33f"
      },
      "execution_count": null,
      "outputs": [
        {
          "output_type": "execute_result",
          "data": {
            "text/plain": [
              "tensor([[ 0.0000,  0.0000,  0.0000,  ...,  0.0000,  0.0000,  0.0000],\n",
              "        [ 0.1396, -0.0062,  0.2148,  ...,  0.0571,  0.0996, -0.2344],\n",
              "        [-0.0967, -0.0264,  0.0903,  ..., -0.0197,  0.2139,  0.1367],\n",
              "        ...,\n",
              "        [-0.2100, -0.3711, -0.1211,  ..., -0.0066,  0.0742, -0.0233],\n",
              "        [-0.1348, -0.0233, -0.0640,  ...,  0.2051,  0.1226, -0.1250],\n",
              "        [-0.0381, -0.1445,  0.1426,  ...,  0.0216,  0.0688,  0.0171]])"
            ]
          },
          "metadata": {},
          "execution_count": 27
        }
      ]
    },
    {
      "cell_type": "code",
      "source": [
        "# embedding net\n",
        "embedding_net = EmbeddingLSTMNet(\n",
        "    hparams['embedding_dim'],\n",
        "    hparams['hidden_dim'],\n",
        "    NUM_LAYERS,\n",
        "    EMBEDDING_REQUIRES_GRAD,\n",
        "    pretrained_weights,\n",
        "    hparams['dropout'],\n",
        "    hparams['simple'], # if simple=True --> simple model, if simple=False --> more complex model (2 linear layers plus relu)\n",
        ")\n",
        "\n",
        "# siamese model\n",
        "model = SiameseNetwork(embedding_net)"
      ],
      "metadata": {
        "id": "pSRrve4Bjmon"
      },
      "execution_count": null,
      "outputs": []
    },
    {
      "cell_type": "code",
      "source": [
        "for i, batch in enumerate(train_dataloader):\n",
        "    q1, q2 = batch['q1_token'], batch['q2_token']\n",
        "    q1_len, q2_len = batch['q1_lengths'], batch['q2_lengths']\n",
        "    y = torch.FloatTensor(batch['labels'])\n",
        "\n",
        "model(q1, q2, q1_len, q2_len)"
      ],
      "metadata": {
        "colab": {
          "base_uri": "https://localhost:8080/"
        },
        "id": "pzeYNIgEjmrr",
        "outputId": "fd4947f0-cbb8-4b4e-bf15-8ca50dd694cf"
      },
      "execution_count": null,
      "outputs": [
        {
          "output_type": "execute_result",
          "data": {
            "text/plain": [
              "tensor([1.5720e-02, 1.2657e-03, 2.5271e-03, 7.9112e-03, 5.7344e-03, 1.0939e-02,\n",
              "        5.1203e-03, 4.4473e-07, 3.1154e-04, 5.5937e-03, 5.2154e-03, 6.5536e-03,\n",
              "        1.0790e-03, 4.3823e-03, 5.7112e-03, 5.1785e-03, 3.0308e-03, 8.0274e-07,\n",
              "        1.8978e-02, 3.7704e-07, 1.6659e-03, 3.6253e-06, 3.4853e-03, 1.8401e-06,\n",
              "        1.5364e-06, 1.3999e-06, 2.5967e-03], grad_fn=<CopySlices>)"
            ]
          },
          "metadata": {},
          "execution_count": 20
        }
      ]
    },
    {
      "cell_type": "code",
      "source": [
        "trainer = ModelTrainer(\n",
        "    model,\n",
        "    hparams,\n",
        "    train_dataloader,\n",
        "    val_dataloader,\n",
        "    train_indices,\n",
        "    val_indices,\n",
        "    log_to_wandb=hparams['log_to_wandb'],\n",
        ")"
      ],
      "metadata": {
        "id": "t-vH7aZrjmuW"
      },
      "execution_count": null,
      "outputs": []
    },
    {
      "cell_type": "code",
      "source": [
        "trainer.fit()"
      ],
      "metadata": {
        "colab": {
          "base_uri": "https://localhost:8080/"
        },
        "id": "Fke5qUCZjmw6",
        "outputId": "f6566a6c-cb55-4ab0-e557-38ae8b2cc404"
      },
      "execution_count": null,
      "outputs": [
        {
          "output_type": "stream",
          "name": "stderr",
          "text": [
            "Epoch [1/50]  Training: 100%|██████████| 1460/1460 [01:19<00:00, 18.30batch/s, train_acc=65.625 %, train_loss=0.202]\n"
          ]
        },
        {
          "output_type": "stream",
          "name": "stdout",
          "text": [
            "Epoch [1/50] Validation: val_loss: 0.19464700615406036 val_acc: 74.8 %\n"
          ]
        },
        {
          "output_type": "stream",
          "name": "stderr",
          "text": [
            "Epoch [2/50]  Training: 100%|██████████| 1460/1460 [01:22<00:00, 17.80batch/s, train_acc=71.875 %, train_loss=0.191]\n"
          ]
        },
        {
          "output_type": "stream",
          "name": "stdout",
          "text": [
            "Epoch [2/50] Validation: val_loss: 0.19200220292806625 val_acc: 74.925 %\n"
          ]
        },
        {
          "output_type": "stream",
          "name": "stderr",
          "text": [
            "Epoch [3/50]  Training: 100%|██████████| 1460/1460 [01:21<00:00, 17.84batch/s, train_acc=75.0 %, train_loss=0.185]\n"
          ]
        },
        {
          "output_type": "stream",
          "name": "stdout",
          "text": [
            "Epoch [3/50] Validation: val_loss: 0.19025942397117615 val_acc: 74.925 %\n"
          ]
        },
        {
          "output_type": "stream",
          "name": "stderr",
          "text": [
            "Epoch [4/50]  Training: 100%|██████████| 1460/1460 [01:17<00:00, 18.87batch/s, train_acc=84.375 %, train_loss=0.181]\n"
          ]
        },
        {
          "output_type": "stream",
          "name": "stdout",
          "text": [
            "Epoch [4/50] Validation: val_loss: 0.18918923461437226 val_acc: 75.0 %\n"
          ]
        },
        {
          "output_type": "stream",
          "name": "stderr",
          "text": [
            "Epoch [5/50]  Training: 100%|██████████| 1460/1460 [01:18<00:00, 18.52batch/s, train_acc=78.125 %, train_loss=0.178]\n"
          ]
        },
        {
          "output_type": "stream",
          "name": "stdout",
          "text": [
            "Epoch [5/50] Validation: val_loss: 0.18882612997293471 val_acc: 75.05 %\n"
          ]
        },
        {
          "output_type": "stream",
          "name": "stderr",
          "text": [
            "Epoch [6/50]  Training: 100%|██████████| 1460/1460 [01:16<00:00, 19.14batch/s, train_acc=75.0 %, train_loss=0.175]\n"
          ]
        },
        {
          "output_type": "stream",
          "name": "stdout",
          "text": [
            "Epoch [6/50] Validation: val_loss: 0.18859945386648178 val_acc: 75.075 %\n"
          ]
        },
        {
          "output_type": "stream",
          "name": "stderr",
          "text": [
            "Epoch [7/50]  Training: 100%|██████████| 1460/1460 [01:16<00:00, 19.06batch/s, train_acc=62.5 %, train_loss=0.173]\n"
          ]
        },
        {
          "output_type": "stream",
          "name": "stdout",
          "text": [
            "Epoch [7/50] Validation: val_loss: 0.1880568670630455 val_acc: 75.175 %\n"
          ]
        },
        {
          "output_type": "stream",
          "name": "stderr",
          "text": [
            "Epoch [8/50]  Training: 100%|██████████| 1460/1460 [01:15<00:00, 19.29batch/s, train_acc=71.875 %, train_loss=0.171]\n"
          ]
        },
        {
          "output_type": "stream",
          "name": "stdout",
          "text": [
            "Epoch [8/50] Validation: val_loss: 0.18770043814182283 val_acc: 75.2 %\n"
          ]
        },
        {
          "output_type": "stream",
          "name": "stderr",
          "text": [
            "Epoch [9/50]  Training: 100%|██████████| 1460/1460 [01:15<00:00, 19.24batch/s, train_acc=81.25 %, train_loss=0.17]\n"
          ]
        },
        {
          "output_type": "stream",
          "name": "stdout",
          "text": [
            "Epoch [9/50] Validation: val_loss: 0.1872672188282013 val_acc: 75.3 %\n"
          ]
        },
        {
          "output_type": "stream",
          "name": "stderr",
          "text": [
            "Epoch [10/50]  Training: 100%|██████████| 1460/1460 [01:16<00:00, 19.08batch/s, train_acc=87.5 %, train_loss=0.168]\n"
          ]
        },
        {
          "output_type": "stream",
          "name": "stdout",
          "text": [
            "Epoch [10/50] Validation: val_loss: 0.18681392705440522 val_acc: 75.225 %\n"
          ]
        },
        {
          "output_type": "stream",
          "name": "stderr",
          "text": [
            "Epoch [11/50]  Training: 100%|██████████| 1460/1460 [01:16<00:00, 19.11batch/s, train_acc=81.25 %, train_loss=0.167]\n"
          ]
        },
        {
          "output_type": "stream",
          "name": "stdout",
          "text": [
            "Epoch [11/50] Validation: val_loss: 0.18663475996255874 val_acc: 75.275 %\n"
          ]
        },
        {
          "output_type": "stream",
          "name": "stderr",
          "text": [
            "Epoch [12/50]  Training: 100%|██████████| 1460/1460 [01:17<00:00, 18.79batch/s, train_acc=68.75 %, train_loss=0.166]\n"
          ]
        },
        {
          "output_type": "stream",
          "name": "stdout",
          "text": [
            "Epoch [12/50] Validation: val_loss: 0.18680459547042846 val_acc: 75.375 %\n"
          ]
        },
        {
          "output_type": "stream",
          "name": "stderr",
          "text": [
            "Epoch [13/50]  Training: 100%|██████████| 1460/1460 [01:15<00:00, 19.29batch/s, train_acc=90.625 %, train_loss=0.165]\n"
          ]
        },
        {
          "output_type": "stream",
          "name": "stdout",
          "text": [
            "Epoch [13/50] Validation: val_loss: 0.1865341041088104 val_acc: 75.225 %\n"
          ]
        },
        {
          "output_type": "stream",
          "name": "stderr",
          "text": [
            "Epoch [14/50]  Training: 100%|██████████| 1460/1460 [01:16<00:00, 18.99batch/s, train_acc=78.125 %, train_loss=0.165]\n"
          ]
        },
        {
          "output_type": "stream",
          "name": "stdout",
          "text": [
            "Epoch [14/50] Validation: val_loss: 0.1861689081788063 val_acc: 75.4 %\n"
          ]
        },
        {
          "output_type": "stream",
          "name": "stderr",
          "text": [
            "Epoch [15/50]  Training: 100%|██████████| 1460/1460 [01:16<00:00, 18.97batch/s, train_acc=71.875 %, train_loss=0.164]\n"
          ]
        },
        {
          "output_type": "stream",
          "name": "stdout",
          "text": [
            "Epoch [15/50] Validation: val_loss: 0.18603657990694045 val_acc: 75.35 %\n"
          ]
        },
        {
          "output_type": "stream",
          "name": "stderr",
          "text": [
            "Epoch [16/50]  Training: 100%|██████████| 1460/1460 [01:15<00:00, 19.27batch/s, train_acc=68.75 %, train_loss=0.163]\n"
          ]
        },
        {
          "output_type": "stream",
          "name": "stdout",
          "text": [
            "Epoch [16/50] Validation: val_loss: 0.18611877405643462 val_acc: 75.35 %\n"
          ]
        },
        {
          "output_type": "stream",
          "name": "stderr",
          "text": [
            "Epoch [17/50]  Training: 100%|██████████| 1460/1460 [01:21<00:00, 17.98batch/s, train_acc=87.5 %, train_loss=0.162]\n"
          ]
        },
        {
          "output_type": "stream",
          "name": "stdout",
          "text": [
            "Epoch [17/50] Validation: val_loss: 0.1861289051771164 val_acc: 75.325 %\n"
          ]
        },
        {
          "output_type": "stream",
          "name": "stderr",
          "text": [
            "Epoch [18/50]  Training: 100%|██████████| 1460/1460 [01:17<00:00, 18.87batch/s, train_acc=81.25 %, train_loss=0.161]\n"
          ]
        },
        {
          "output_type": "stream",
          "name": "stdout",
          "text": [
            "Epoch [18/50] Validation: val_loss: 0.1860496551990509 val_acc: 75.425 %\n"
          ]
        },
        {
          "output_type": "stream",
          "name": "stderr",
          "text": [
            "Epoch [19/50]  Training: 100%|██████████| 1460/1460 [01:16<00:00, 19.02batch/s, train_acc=78.125 %, train_loss=0.161]\n"
          ]
        },
        {
          "output_type": "stream",
          "name": "stdout",
          "text": [
            "Epoch [19/50] Validation: val_loss: 0.18589205414056778 val_acc: 75.375 %\n"
          ]
        },
        {
          "output_type": "stream",
          "name": "stderr",
          "text": [
            "Epoch [20/50]  Training: 100%|██████████| 1460/1460 [01:15<00:00, 19.25batch/s, train_acc=68.75 %, train_loss=0.161]\n"
          ]
        },
        {
          "output_type": "stream",
          "name": "stdout",
          "text": [
            "Epoch [20/50] Validation: val_loss: 0.18595123714208603 val_acc: 75.35 %\n"
          ]
        },
        {
          "output_type": "stream",
          "name": "stderr",
          "text": [
            "Epoch [21/50]  Training: 100%|██████████| 1460/1460 [01:17<00:00, 18.81batch/s, train_acc=93.75 %, train_loss=0.161]\n"
          ]
        },
        {
          "output_type": "stream",
          "name": "stdout",
          "text": [
            "Epoch [21/50] Validation: val_loss: 0.18593654012680053 val_acc: 75.425 %\n"
          ]
        },
        {
          "output_type": "stream",
          "name": "stderr",
          "text": [
            "Epoch [22/50]  Training: 100%|██████████| 1460/1460 [01:16<00:00, 19.04batch/s, train_acc=71.875 %, train_loss=0.16]\n"
          ]
        },
        {
          "output_type": "stream",
          "name": "stdout",
          "text": [
            "Epoch [22/50] Validation: val_loss: 0.18576563459634782 val_acc: 75.35 %\n"
          ]
        },
        {
          "output_type": "stream",
          "name": "stderr",
          "text": [
            "Epoch [23/50]  Training: 100%|██████████| 1460/1460 [01:15<00:00, 19.44batch/s, train_acc=62.5 %, train_loss=0.16]\n"
          ]
        },
        {
          "output_type": "stream",
          "name": "stdout",
          "text": [
            "Epoch [23/50] Validation: val_loss: 0.18577163696289062 val_acc: 75.35 %\n"
          ]
        },
        {
          "output_type": "stream",
          "name": "stderr",
          "text": [
            "Epoch [24/50]  Training: 100%|██████████| 1460/1460 [01:15<00:00, 19.29batch/s, train_acc=75.0 %, train_loss=0.16]\n"
          ]
        },
        {
          "output_type": "stream",
          "name": "stdout",
          "text": [
            "Epoch [24/50] Validation: val_loss: 0.18578116476535797 val_acc: 75.375 %\n"
          ]
        },
        {
          "output_type": "stream",
          "name": "stderr",
          "text": [
            "Epoch [25/50]  Training: 100%|██████████| 1460/1460 [01:14<00:00, 19.70batch/s, train_acc=81.25 %, train_loss=0.16]\n"
          ]
        },
        {
          "output_type": "stream",
          "name": "stdout",
          "text": [
            "Epoch [25/50] Validation: val_loss: 0.18571872925758362 val_acc: 75.375 %\n"
          ]
        },
        {
          "output_type": "stream",
          "name": "stderr",
          "text": [
            "Epoch [26/50]  Training: 100%|██████████| 1460/1460 [01:14<00:00, 19.53batch/s, train_acc=65.625 %, train_loss=0.159]\n"
          ]
        },
        {
          "output_type": "stream",
          "name": "stdout",
          "text": [
            "Epoch [26/50] Validation: val_loss: 0.1857122070789337 val_acc: 75.425 %\n"
          ]
        },
        {
          "output_type": "stream",
          "name": "stderr",
          "text": [
            "Epoch [27/50]  Training: 100%|██████████| 1460/1460 [01:16<00:00, 19.18batch/s, train_acc=84.375 %, train_loss=0.159]\n"
          ]
        },
        {
          "output_type": "stream",
          "name": "stdout",
          "text": [
            "Epoch [27/50] Validation: val_loss: 0.18565979725122453 val_acc: 75.425 %\n"
          ]
        },
        {
          "output_type": "stream",
          "name": "stderr",
          "text": [
            "Epoch [28/50]  Training: 100%|██████████| 1460/1460 [01:15<00:00, 19.36batch/s, train_acc=75.0 %, train_loss=0.159]\n"
          ]
        },
        {
          "output_type": "stream",
          "name": "stdout",
          "text": [
            "Epoch [28/50] Validation: val_loss: 0.18567350625991821 val_acc: 75.35 %\n"
          ]
        },
        {
          "output_type": "stream",
          "name": "stderr",
          "text": [
            "Epoch [29/50]  Training: 100%|██████████| 1460/1460 [01:15<00:00, 19.38batch/s, train_acc=71.875 %, train_loss=0.159]\n"
          ]
        },
        {
          "output_type": "stream",
          "name": "stdout",
          "text": [
            "Epoch [29/50] Validation: val_loss: 0.18564125072956086 val_acc: 75.4 %\n"
          ]
        },
        {
          "output_type": "stream",
          "name": "stderr",
          "text": [
            "Epoch [30/50]  Training: 100%|██████████| 1460/1460 [01:15<00:00, 19.34batch/s, train_acc=81.25 %, train_loss=0.158]\n"
          ]
        },
        {
          "output_type": "stream",
          "name": "stdout",
          "text": [
            "Epoch [30/50] Validation: val_loss: 0.18561637961864472 val_acc: 75.425 %\n"
          ]
        },
        {
          "output_type": "stream",
          "name": "stderr",
          "text": [
            "Epoch [31/50]  Training: 100%|██████████| 1460/1460 [01:15<00:00, 19.27batch/s, train_acc=65.625 %, train_loss=0.159]\n"
          ]
        },
        {
          "output_type": "stream",
          "name": "stdout",
          "text": [
            "Epoch [31/50] Validation: val_loss: 0.18563487863540648 val_acc: 75.4 %\n"
          ]
        },
        {
          "output_type": "stream",
          "name": "stderr",
          "text": [
            "Epoch [32/50]  Training: 100%|██████████| 1460/1460 [01:15<00:00, 19.38batch/s, train_acc=84.375 %, train_loss=0.158]\n"
          ]
        },
        {
          "output_type": "stream",
          "name": "stdout",
          "text": [
            "Epoch [32/50] Validation: val_loss: 0.18558455336093901 val_acc: 75.44999999999999 %\n"
          ]
        },
        {
          "output_type": "stream",
          "name": "stderr",
          "text": [
            "Epoch [33/50]  Training: 100%|██████████| 1460/1460 [01:16<00:00, 19.17batch/s, train_acc=81.25 %, train_loss=0.158]\n"
          ]
        },
        {
          "output_type": "stream",
          "name": "stdout",
          "text": [
            "Epoch [33/50] Validation: val_loss: 0.18558892607688904 val_acc: 75.4 %\n"
          ]
        },
        {
          "output_type": "stream",
          "name": "stderr",
          "text": [
            "Epoch [34/50]  Training: 100%|██████████| 1460/1460 [01:15<00:00, 19.26batch/s, train_acc=71.875 %, train_loss=0.158]\n"
          ]
        },
        {
          "output_type": "stream",
          "name": "stdout",
          "text": [
            "Epoch [34/50] Validation: val_loss: 0.1855889413356781 val_acc: 75.4 %\n"
          ]
        },
        {
          "output_type": "stream",
          "name": "stderr",
          "text": [
            "Epoch [35/50]  Training: 100%|██████████| 1460/1460 [01:14<00:00, 19.53batch/s, train_acc=68.75 %, train_loss=0.158]\n"
          ]
        },
        {
          "output_type": "stream",
          "name": "stdout",
          "text": [
            "Epoch [35/50] Validation: val_loss: 0.18557924628257752 val_acc: 75.425 %\n"
          ]
        },
        {
          "output_type": "stream",
          "name": "stderr",
          "text": [
            "Epoch [36/50]  Training: 100%|██████████| 1460/1460 [01:15<00:00, 19.45batch/s, train_acc=71.875 %, train_loss=0.158]\n"
          ]
        },
        {
          "output_type": "stream",
          "name": "stdout",
          "text": [
            "Epoch [36/50] Validation: val_loss: 0.18557661020755767 val_acc: 75.4 %\n"
          ]
        },
        {
          "output_type": "stream",
          "name": "stderr",
          "text": [
            "Epoch [37/50]  Training: 100%|██████████| 1460/1460 [01:14<00:00, 19.47batch/s, train_acc=71.875 %, train_loss=0.158]\n"
          ]
        },
        {
          "output_type": "stream",
          "name": "stdout",
          "text": [
            "Epoch [37/50] Validation: val_loss: 0.18556220984458924 val_acc: 75.4 %\n"
          ]
        },
        {
          "output_type": "stream",
          "name": "stderr",
          "text": [
            "Epoch [38/50]  Training: 100%|██████████| 1460/1460 [01:15<00:00, 19.42batch/s, train_acc=68.75 %, train_loss=0.158]\n"
          ]
        },
        {
          "output_type": "stream",
          "name": "stdout",
          "text": [
            "Epoch [38/50] Validation: val_loss: 0.18556151431798934 val_acc: 75.4 %\n"
          ]
        },
        {
          "output_type": "stream",
          "name": "stderr",
          "text": [
            "Epoch [39/50]  Training: 100%|██████████| 1460/1460 [01:16<00:00, 19.20batch/s, train_acc=78.125 %, train_loss=0.158]\n"
          ]
        },
        {
          "output_type": "stream",
          "name": "stdout",
          "text": [
            "Epoch [39/50] Validation: val_loss: 0.18556543672084808 val_acc: 75.425 %\n"
          ]
        },
        {
          "output_type": "stream",
          "name": "stderr",
          "text": [
            "Epoch [40/50]  Training: 100%|██████████| 1460/1460 [01:16<00:00, 19.19batch/s, train_acc=75.0 %, train_loss=0.158]\n"
          ]
        },
        {
          "output_type": "stream",
          "name": "stdout",
          "text": [
            "Epoch [40/50] Validation: val_loss: 0.18554937398433685 val_acc: 75.4 %\n"
          ]
        },
        {
          "output_type": "stream",
          "name": "stderr",
          "text": [
            "Epoch [41/50]  Training: 100%|██████████| 1460/1460 [01:16<00:00, 19.16batch/s, train_acc=81.25 %, train_loss=0.157]\n"
          ]
        },
        {
          "output_type": "stream",
          "name": "stdout",
          "text": [
            "Epoch [41/50] Validation: val_loss: 0.1855525130033493 val_acc: 75.425 %\n"
          ]
        },
        {
          "output_type": "stream",
          "name": "stderr",
          "text": [
            "Epoch [42/50]  Training: 100%|██████████| 1460/1460 [01:16<00:00, 19.18batch/s, train_acc=84.375 %, train_loss=0.158]\n"
          ]
        },
        {
          "output_type": "stream",
          "name": "stdout",
          "text": [
            "Epoch [42/50] Validation: val_loss: 0.1855344850420952 val_acc: 75.4 %\n"
          ]
        },
        {
          "output_type": "stream",
          "name": "stderr",
          "text": [
            "Epoch [43/50]  Training: 100%|██████████| 1460/1460 [01:17<00:00, 18.93batch/s, train_acc=59.375 %, train_loss=0.157]\n"
          ]
        },
        {
          "output_type": "stream",
          "name": "stdout",
          "text": [
            "Epoch [43/50] Validation: val_loss: 0.18554202157258987 val_acc: 75.4 %\n"
          ]
        },
        {
          "output_type": "stream",
          "name": "stderr",
          "text": [
            "Epoch [44/50]  Training: 100%|██████████| 1460/1460 [01:15<00:00, 19.24batch/s, train_acc=81.25 %, train_loss=0.157]\n"
          ]
        },
        {
          "output_type": "stream",
          "name": "stdout",
          "text": [
            "Epoch [44/50] Validation: val_loss: 0.18553240215778352 val_acc: 75.4 %\n"
          ]
        },
        {
          "output_type": "stream",
          "name": "stderr",
          "text": [
            "Epoch [45/50]  Training: 100%|██████████| 1460/1460 [01:15<00:00, 19.32batch/s, train_acc=78.125 %, train_loss=0.158]\n"
          ]
        },
        {
          "output_type": "stream",
          "name": "stdout",
          "text": [
            "Epoch [45/50] Validation: val_loss: 0.18553779101371765 val_acc: 75.425 %\n"
          ]
        },
        {
          "output_type": "stream",
          "name": "stderr",
          "text": [
            "Epoch [46/50]  Training: 100%|██████████| 1460/1460 [01:15<00:00, 19.23batch/s, train_acc=87.5 %, train_loss=0.157]\n"
          ]
        },
        {
          "output_type": "stream",
          "name": "stdout",
          "text": [
            "Epoch [46/50] Validation: val_loss: 0.18553164583444595 val_acc: 75.4 %\n"
          ]
        },
        {
          "output_type": "stream",
          "name": "stderr",
          "text": [
            "Epoch [47/50]  Training: 100%|██████████| 1460/1460 [01:16<00:00, 19.15batch/s, train_acc=65.625 %, train_loss=0.158]\n"
          ]
        },
        {
          "output_type": "stream",
          "name": "stdout",
          "text": [
            "Epoch [47/50] Validation: val_loss: 0.18553514152765274 val_acc: 75.4 %\n"
          ]
        },
        {
          "output_type": "stream",
          "name": "stderr",
          "text": [
            "Epoch [48/50]  Training: 100%|██████████| 1460/1460 [01:17<00:00, 18.83batch/s, train_acc=71.875 %, train_loss=0.157]\n"
          ]
        },
        {
          "output_type": "stream",
          "name": "stdout",
          "text": [
            "Epoch [48/50] Validation: val_loss: 0.1855302608013153 val_acc: 75.4 %\n"
          ]
        },
        {
          "output_type": "stream",
          "name": "stderr",
          "text": [
            "Epoch [49/50]  Training: 100%|██████████| 1460/1460 [01:17<00:00, 18.87batch/s, train_acc=68.75 %, train_loss=0.157]\n"
          ]
        },
        {
          "output_type": "stream",
          "name": "stdout",
          "text": [
            "Epoch [49/50] Validation: val_loss: 0.18552947634458541 val_acc: 75.4 %\n"
          ]
        },
        {
          "output_type": "stream",
          "name": "stderr",
          "text": [
            "Epoch [50/50]  Training: 100%|██████████| 1460/1460 [01:18<00:00, 18.53batch/s, train_acc=75.0 %, train_loss=0.157]\n"
          ]
        },
        {
          "output_type": "stream",
          "name": "stdout",
          "text": [
            "Epoch [50/50] Validation: val_loss: 0.18552858221530916 val_acc: 75.4 %\n"
          ]
        }
      ]
    },
    {
      "cell_type": "code",
      "source": [
        "trainer.test()"
      ],
      "metadata": {
        "colab": {
          "base_uri": "https://localhost:8080/",
          "height": 1000
        },
        "id": "qNrcrSO4jmz2",
        "outputId": "e10fb6e4-4e5f-414a-ceee-09616649af9f"
      },
      "execution_count": null,
      "outputs": [
        {
          "output_type": "stream",
          "name": "stdout",
          "text": [
            "- - - Model Performance - - -\n",
            "\n",
            "Model Accuracy:  75.4\n",
            "Correct predictions: 3016, Incorret predictions: 984\n",
            "\n"
          ]
        },
        {
          "output_type": "display_data",
          "data": {
            "text/plain": [
              "<Figure size 640x480 with 2 Axes>"
            ],
            "image/png": "[encoded data removed]"
          },
          "metadata": {}
        },
        {
          "output_type": "stream",
          "name": "stdout",
          "text": [
            "TP: 2984\n",
            "FP: 16\n",
            "FN: 968\n",
            "TN: 32\n",
            "\n",
            "Precision Score: 0.032\n",
            "Recall Score: 0.6666666666666666\n",
            "F1 Score: 0.061068702290076333\n"
          ]
        },
        {
          "output_type": "display_data",
          "data": {
            "text/plain": [
              "<Figure size 640x480 with 1 Axes>"
            ],
            "image/png": "[encoded data removed]"
          },
          "metadata": {}
        }
      ]
    },
    {
      "cell_type": "code",
      "source": [
        "filename = \"model.pt\"\n",
        "save_model(model, \"/content\" + \"/\" + filename)"
      ],
      "metadata": {
        "id": "ymPmDcYrjm2S"
      },
      "execution_count": null,
      "outputs": []
    },
    {
      "cell_type": "code",
      "source": [],
      "metadata": {
        "id": "MKdW77fFjm5K"
      },
      "execution_count": null,
      "outputs": []
    },
    {
      "cell_type": "code",
      "source": [
        "ind = np.random.choice(len(train_dataloader))\n",
        "test_sample_train = dict()\n",
        "for idx, batch in enumerate(train_dataloader):\n",
        "    if idx == ind:\n",
        "        test_sample_train['q1_text'] = [batch['q1_text'][0]]\n",
        "        test_sample_train['q2_text'] = [batch['q2_text'][0]]\n",
        "        test_sample_train['q1_token'] = [batch['q1_token'][0]]\n",
        "        test_sample_train['q2_token'] = [batch['q2_token'][0]]\n",
        "        test_sample_train['q1_lengths'] = [batch['q1_lengths'][0]]\n",
        "        test_sample_train['q2_lengths'] = [batch['q2_lengths'][0]]\n",
        "        test_sample_train['labels'] = [batch['labels'][0]]\n",
        "\n",
        "trainer.predict(test_sample_train)"
      ],
      "metadata": {
        "colab": {
          "base_uri": "https://localhost:8080/"
        },
        "id": "z-zTjFjhjm8l",
        "outputId": "81debc29-08c2-4e1b-e2bf-c0957fda29b3"
      },
      "execution_count": null,
      "outputs": [
        {
          "output_type": "stream",
          "name": "stdout",
          "text": [
            "question 1: ['maintaining a balance inside the body or cells of organisms is known as']\n",
            "question 2: ['ketosis']\n",
            "tokens  q1: [[1200, 44, 1622, 1522, 30, 222, 29, 220, 3, 17, 5, 318, 12]]\n",
            "tokens  q2: [[2286]]\n",
            "\n",
            "\n",
            "Model predicts 0.0 --> Actual value 0.0\n",
            "Model prediction is correct :)\n",
            "\n",
            "The questions ['maintaining a balance inside the body or cells of organisms is known as'] and ['ketosis'] are dissimilar!\n"
          ]
        }
      ]
    },
    {
      "cell_type": "code",
      "source": [
        "|"
      ],
      "metadata": {
        "id": "eeiGYfCal-PA"
      },
      "execution_count": null,
      "outputs": []
    },
    {
      "cell_type": "markdown",
      "source": [
        "# Testing on Trained Model"
      ],
      "metadata": {
        "id": "UPqZcPanqK5w"
      }
    },
    {
      "cell_type": "code",
      "source": [
        "new_model_weights = torch.load('model.pt')\n",
        "new_model_weights"
      ],
      "metadata": {
        "id": "6dyEYZH2l-Se"
      },
      "execution_count": null,
      "outputs": []
    },
    {
      "cell_type": "code",
      "source": [
        "embedding_net = EmbeddingLSTMNet(\n",
        "    hparams['embedding_dim'],\n",
        "    hparams['hidden_dim'],\n",
        "    NUM_LAYERS,\n",
        "    EMBEDDING_REQUIRES_GRAD,\n",
        "    pretrained_weights,\n",
        "    hparams['dropout'],\n",
        "    hparams['simple'], # if simple=True --> simple model, if simple=False --> more complex model (2 linear layers plus relu)\n",
        ")\n",
        "\n",
        "# siamese model\n",
        "model = SiameseNetwork(embedding_net)"
      ],
      "metadata": {
        "id": "Q_6rSJCQqN0z"
      },
      "execution_count": null,
      "outputs": []
    },
    {
      "cell_type": "code",
      "source": [
        "model.load_state_dict(torch.load(\"/content/Github_model.pt\"))"
      ],
      "metadata": {
        "colab": {
          "base_uri": "https://localhost:8080/"
        },
        "id": "d3AI6h5Uq5ut",
        "outputId": "8bdd426d-4607-418c-b372-0b4dc9854b51"
      },
      "execution_count": null,
      "outputs": [
        {
          "output_type": "execute_result",
          "data": {
            "text/plain": [
              "<All keys matched successfully>"
            ]
          },
          "metadata": {},
          "execution_count": 51
        }
      ]
    },
    {
      "cell_type": "code",
      "source": [
        "trainer = ModelTrainer(\n",
        "    model,\n",
        "    hparams,\n",
        "    train_dataloader,\n",
        "    val_dataloader,\n",
        "    train_indices,\n",
        "    val_indices,\n",
        "    log_to_wandb=hparams['log_to_wandb'],\n",
        ")"
      ],
      "metadata": {
        "id": "jTu38NjFrTfe"
      },
      "execution_count": null,
      "outputs": []
    },
    {
      "cell_type": "code",
      "source": [
        "ind = np.random.choice(len(val_dataloader))\n",
        "test_sample_val = dict()\n",
        "for idx, batch in enumerate(val_dataloader):\n",
        "    if idx == ind:\n",
        "        test_sample_val['q1_text'] = [batch['q1_text'][0]]\n",
        "        test_sample_val['q2_text'] = [batch['q2_text'][0]]\n",
        "        test_sample_val['q1_token'] = [batch['q1_token'][0]]\n",
        "        test_sample_val['q2_token'] = [batch['q2_token'][0]]\n",
        "        test_sample_val['q1_lengths'] = [batch['q1_lengths'][0]]\n",
        "        test_sample_val['q2_lengths'] = [batch['q2_lengths'][0]]\n",
        "        test_sample_val['labels'] = [batch['labels'][0]]\n",
        "\n",
        "trainer.predict(test_sample_val)"
      ],
      "metadata": {
        "colab": {
          "base_uri": "https://localhost:8080/"
        },
        "id": "8SQYL6GRrcCJ",
        "outputId": "4b436862-c4ca-4892-ebe1-0853553e0624"
      },
      "execution_count": null,
      "outputs": [
        {
          "output_type": "stream",
          "name": "stdout",
          "text": [
            "question 1: ['kinetic theory is the atomistic description of what as well as liquids and solids']\n",
            "question 2: ['gases']\n",
            "tokens  q1: [[341, 2352, 5, 30, 14557, 14558, 3, 1, 12, 1808, 12, 4066, 14, 1247]]\n",
            "tokens  q2: [[88]]\n",
            "\n",
            "\n",
            "Model predicts 0.0 --> Actual value 1.0\n",
            "Model prediction is inaccurate :(\n",
            "\n",
            "The questions ['kinetic theory is the atomistic description of what as well as liquids and solids'] and ['gases'] should be similar!\n"
          ]
        }
      ]
    },
    {
      "cell_type": "code",
      "source": [],
      "metadata": {
        "id": "Xl00SDnYsnEQ"
      },
      "execution_count": null,
      "outputs": []
    },
    {
      "cell_type": "code",
      "source": [
        "default = True  # set to False to create your own inputs\n",
        "similar = False  # select False to dispaly dissimlar example\n",
        "\n",
        "if default:\n",
        "    if similar:\n",
        "        q1 = ['Is it cold today?']\n",
        "        q2 = ['Will it be cold today?']\n",
        "        label = [1.0]\n",
        "    else:\n",
        "        q1 = ['Will I pass the final?']\n",
        "        q2 = ['What will I have for dinner tonight?']\n",
        "        label = [0.0]\n",
        "else:\n",
        "    q1 = input(r'Enter your 1^st question: ')\n",
        "    q2 = input(r'Enter your 2^nd question: ')\n",
        "    label = input('label: ') # 0 for dissimilar, 1 for similar\n",
        "    q1 = [q1]\n",
        "    q2 = [q2]\n",
        "    label = [label]"
      ],
      "metadata": {
        "id": "M1QMcgw0spCG"
      },
      "execution_count": null,
      "outputs": []
    },
    {
      "cell_type": "code",
      "source": [
        "df_own = pd.DataFrame(list(zip(q1, q2, label)), columns=['question1', 'question2', 'is_duplicate'])\n",
        "# prepare data\n",
        "q_pair_own, label = convert_data_to_tuples(df_own, hparams['remove_stopwords'], hparams['stem_words'])\n",
        "print(q_pair_own)\n",
        "\n",
        "# create dataset\n",
        "own_dataset = QuoraDataset(q_pair_own, language.word2index, label)\n",
        "\n",
        "# create dataloader\n",
        "predict_dataloader = torch.utils.data.DataLoader(own_dataset, batch_size=1, collate_fn=collate)\n",
        "\n",
        "for sample in predict_dataloader:\n",
        "    test_sample = sample\n",
        "\n",
        "# predict\n",
        "trainer.predict(test_sample)"
      ],
      "metadata": {
        "colab": {
          "base_uri": "https://localhost:8080/",
          "height": 408
        },
        "id": "cUQIgShmsubX",
        "outputId": "ce0b0ebe-c7a5-4285-83a9-ae779677c8e4"
      },
      "execution_count": null,
      "outputs": [
        {
          "output_type": "stream",
          "name": "stdout",
          "text": [
            "Question Pairs:  1\n",
            "[('will i pass the final', 'what will i have for dinner tonight')]\n"
          ]
        },
        {
          "output_type": "error",
          "ename": "KeyError",
          "evalue": "'dinner'",
          "traceback": [
            "\u001b[0;31m---------------------------------------------------------------------------\u001b[0m",
            "\u001b[0;31mKeyError\u001b[0m                                  Traceback (most recent call last)",
            "\u001b[0;32m<ipython-input-59-ff00002de148>\u001b[0m in \u001b[0;36m<cell line: 12>\u001b[0;34m()\u001b[0m\n\u001b[1;32m     10\u001b[0m \u001b[0mpredict_dataloader\u001b[0m \u001b[0;34m=\u001b[0m \u001b[0mtorch\u001b[0m\u001b[0;34m.\u001b[0m\u001b[0mutils\u001b[0m\u001b[0;34m.\u001b[0m\u001b[0mdata\u001b[0m\u001b[0;34m.\u001b[0m\u001b[0mDataLoader\u001b[0m\u001b[0;34m(\u001b[0m\u001b[0mown_dataset\u001b[0m\u001b[0;34m,\u001b[0m \u001b[0mbatch_size\u001b[0m\u001b[0;34m=\u001b[0m\u001b[0;36m1\u001b[0m\u001b[0;34m,\u001b[0m \u001b[0mcollate_fn\u001b[0m\u001b[0;34m=\u001b[0m\u001b[0mcollate\u001b[0m\u001b[0;34m)\u001b[0m\u001b[0;34m\u001b[0m\u001b[0;34m\u001b[0m\u001b[0m\n\u001b[1;32m     11\u001b[0m \u001b[0;34m\u001b[0m\u001b[0m\n\u001b[0;32m---> 12\u001b[0;31m \u001b[0;32mfor\u001b[0m \u001b[0msample\u001b[0m \u001b[0;32min\u001b[0m \u001b[0mpredict_dataloader\u001b[0m\u001b[0;34m:\u001b[0m\u001b[0;34m\u001b[0m\u001b[0;34m\u001b[0m\u001b[0m\n\u001b[0m\u001b[1;32m     13\u001b[0m     \u001b[0mtest_sample\u001b[0m \u001b[0;34m=\u001b[0m \u001b[0msample\u001b[0m\u001b[0;34m\u001b[0m\u001b[0;34m\u001b[0m\u001b[0m\n\u001b[1;32m     14\u001b[0m \u001b[0;34m\u001b[0m\u001b[0m\n",
            "\u001b[0;32m/usr/local/lib/python3.10/dist-packages/torch/utils/data/dataloader.py\u001b[0m in \u001b[0;36m__next__\u001b[0;34m(self)\u001b[0m\n\u001b[1;32m    629\u001b[0m                 \u001b[0;31m# TODO(https://github.com/pytorch/pytorch/issues/76750)\u001b[0m\u001b[0;34m\u001b[0m\u001b[0;34m\u001b[0m\u001b[0m\n\u001b[1;32m    630\u001b[0m                 \u001b[0mself\u001b[0m\u001b[0;34m.\u001b[0m\u001b[0m_reset\u001b[0m\u001b[0;34m(\u001b[0m\u001b[0;34m)\u001b[0m  \u001b[0;31m# type: ignore[call-arg]\u001b[0m\u001b[0;34m\u001b[0m\u001b[0;34m\u001b[0m\u001b[0m\n\u001b[0;32m--> 631\u001b[0;31m             \u001b[0mdata\u001b[0m \u001b[0;34m=\u001b[0m \u001b[0mself\u001b[0m\u001b[0;34m.\u001b[0m\u001b[0m_next_data\u001b[0m\u001b[0;34m(\u001b[0m\u001b[0;34m)\u001b[0m\u001b[0;34m\u001b[0m\u001b[0;34m\u001b[0m\u001b[0m\n\u001b[0m\u001b[1;32m    632\u001b[0m             \u001b[0mself\u001b[0m\u001b[0;34m.\u001b[0m\u001b[0m_num_yielded\u001b[0m \u001b[0;34m+=\u001b[0m \u001b[0;36m1\u001b[0m\u001b[0;34m\u001b[0m\u001b[0;34m\u001b[0m\u001b[0m\n\u001b[1;32m    633\u001b[0m             \u001b[0;32mif\u001b[0m \u001b[0mself\u001b[0m\u001b[0;34m.\u001b[0m\u001b[0m_dataset_kind\u001b[0m \u001b[0;34m==\u001b[0m \u001b[0m_DatasetKind\u001b[0m\u001b[0;34m.\u001b[0m\u001b[0mIterable\u001b[0m \u001b[0;32mand\u001b[0m\u001b[0;31m \u001b[0m\u001b[0;31m\\\u001b[0m\u001b[0;34m\u001b[0m\u001b[0;34m\u001b[0m\u001b[0m\n",
            "\u001b[0;32m/usr/local/lib/python3.10/dist-packages/torch/utils/data/dataloader.py\u001b[0m in \u001b[0;36m_next_data\u001b[0;34m(self)\u001b[0m\n\u001b[1;32m    673\u001b[0m     \u001b[0;32mdef\u001b[0m \u001b[0m_next_data\u001b[0m\u001b[0;34m(\u001b[0m\u001b[0mself\u001b[0m\u001b[0;34m)\u001b[0m\u001b[0;34m:\u001b[0m\u001b[0;34m\u001b[0m\u001b[0;34m\u001b[0m\u001b[0m\n\u001b[1;32m    674\u001b[0m         \u001b[0mindex\u001b[0m \u001b[0;34m=\u001b[0m \u001b[0mself\u001b[0m\u001b[0;34m.\u001b[0m\u001b[0m_next_index\u001b[0m\u001b[0;34m(\u001b[0m\u001b[0;34m)\u001b[0m  \u001b[0;31m# may raise StopIteration\u001b[0m\u001b[0;34m\u001b[0m\u001b[0;34m\u001b[0m\u001b[0m\n\u001b[0;32m--> 675\u001b[0;31m         \u001b[0mdata\u001b[0m \u001b[0;34m=\u001b[0m \u001b[0mself\u001b[0m\u001b[0;34m.\u001b[0m\u001b[0m_dataset_fetcher\u001b[0m\u001b[0;34m.\u001b[0m\u001b[0mfetch\u001b[0m\u001b[0;34m(\u001b[0m\u001b[0mindex\u001b[0m\u001b[0;34m)\u001b[0m  \u001b[0;31m# may raise StopIteration\u001b[0m\u001b[0;34m\u001b[0m\u001b[0;34m\u001b[0m\u001b[0m\n\u001b[0m\u001b[1;32m    676\u001b[0m         \u001b[0;32mif\u001b[0m \u001b[0mself\u001b[0m\u001b[0;34m.\u001b[0m\u001b[0m_pin_memory\u001b[0m\u001b[0;34m:\u001b[0m\u001b[0;34m\u001b[0m\u001b[0;34m\u001b[0m\u001b[0m\n\u001b[1;32m    677\u001b[0m             \u001b[0mdata\u001b[0m \u001b[0;34m=\u001b[0m \u001b[0m_utils\u001b[0m\u001b[0;34m.\u001b[0m\u001b[0mpin_memory\u001b[0m\u001b[0;34m.\u001b[0m\u001b[0mpin_memory\u001b[0m\u001b[0;34m(\u001b[0m\u001b[0mdata\u001b[0m\u001b[0;34m,\u001b[0m \u001b[0mself\u001b[0m\u001b[0;34m.\u001b[0m\u001b[0m_pin_memory_device\u001b[0m\u001b[0;34m)\u001b[0m\u001b[0;34m\u001b[0m\u001b[0;34m\u001b[0m\u001b[0m\n",
            "\u001b[0;32m/usr/local/lib/python3.10/dist-packages/torch/utils/data/_utils/fetch.py\u001b[0m in \u001b[0;36mfetch\u001b[0;34m(self, possibly_batched_index)\u001b[0m\n\u001b[1;32m     49\u001b[0m                 \u001b[0mdata\u001b[0m \u001b[0;34m=\u001b[0m \u001b[0mself\u001b[0m\u001b[0;34m.\u001b[0m\u001b[0mdataset\u001b[0m\u001b[0;34m.\u001b[0m\u001b[0m__getitems__\u001b[0m\u001b[0;34m(\u001b[0m\u001b[0mpossibly_batched_index\u001b[0m\u001b[0;34m)\u001b[0m\u001b[0;34m\u001b[0m\u001b[0;34m\u001b[0m\u001b[0m\n\u001b[1;32m     50\u001b[0m             \u001b[0;32melse\u001b[0m\u001b[0;34m:\u001b[0m\u001b[0;34m\u001b[0m\u001b[0;34m\u001b[0m\u001b[0m\n\u001b[0;32m---> 51\u001b[0;31m                 \u001b[0mdata\u001b[0m \u001b[0;34m=\u001b[0m \u001b[0;34m[\u001b[0m\u001b[0mself\u001b[0m\u001b[0;34m.\u001b[0m\u001b[0mdataset\u001b[0m\u001b[0;34m[\u001b[0m\u001b[0midx\u001b[0m\u001b[0;34m]\u001b[0m \u001b[0;32mfor\u001b[0m \u001b[0midx\u001b[0m \u001b[0;32min\u001b[0m \u001b[0mpossibly_batched_index\u001b[0m\u001b[0;34m]\u001b[0m\u001b[0;34m\u001b[0m\u001b[0;34m\u001b[0m\u001b[0m\n\u001b[0m\u001b[1;32m     52\u001b[0m         \u001b[0;32melse\u001b[0m\u001b[0;34m:\u001b[0m\u001b[0;34m\u001b[0m\u001b[0;34m\u001b[0m\u001b[0m\n\u001b[1;32m     53\u001b[0m             \u001b[0mdata\u001b[0m \u001b[0;34m=\u001b[0m \u001b[0mself\u001b[0m\u001b[0;34m.\u001b[0m\u001b[0mdataset\u001b[0m\u001b[0;34m[\u001b[0m\u001b[0mpossibly_batched_index\u001b[0m\u001b[0;34m]\u001b[0m\u001b[0;34m\u001b[0m\u001b[0;34m\u001b[0m\u001b[0m\n",
            "\u001b[0;32m/usr/local/lib/python3.10/dist-packages/torch/utils/data/_utils/fetch.py\u001b[0m in \u001b[0;36m<listcomp>\u001b[0;34m(.0)\u001b[0m\n\u001b[1;32m     49\u001b[0m                 \u001b[0mdata\u001b[0m \u001b[0;34m=\u001b[0m \u001b[0mself\u001b[0m\u001b[0;34m.\u001b[0m\u001b[0mdataset\u001b[0m\u001b[0;34m.\u001b[0m\u001b[0m__getitems__\u001b[0m\u001b[0;34m(\u001b[0m\u001b[0mpossibly_batched_index\u001b[0m\u001b[0;34m)\u001b[0m\u001b[0;34m\u001b[0m\u001b[0;34m\u001b[0m\u001b[0m\n\u001b[1;32m     50\u001b[0m             \u001b[0;32melse\u001b[0m\u001b[0;34m:\u001b[0m\u001b[0;34m\u001b[0m\u001b[0;34m\u001b[0m\u001b[0m\n\u001b[0;32m---> 51\u001b[0;31m                 \u001b[0mdata\u001b[0m \u001b[0;34m=\u001b[0m \u001b[0;34m[\u001b[0m\u001b[0mself\u001b[0m\u001b[0;34m.\u001b[0m\u001b[0mdataset\u001b[0m\u001b[0;34m[\u001b[0m\u001b[0midx\u001b[0m\u001b[0;34m]\u001b[0m \u001b[0;32mfor\u001b[0m \u001b[0midx\u001b[0m \u001b[0;32min\u001b[0m \u001b[0mpossibly_batched_index\u001b[0m\u001b[0;34m]\u001b[0m\u001b[0;34m\u001b[0m\u001b[0;34m\u001b[0m\u001b[0m\n\u001b[0m\u001b[1;32m     52\u001b[0m         \u001b[0;32melse\u001b[0m\u001b[0;34m:\u001b[0m\u001b[0;34m\u001b[0m\u001b[0;34m\u001b[0m\u001b[0m\n\u001b[1;32m     53\u001b[0m             \u001b[0mdata\u001b[0m \u001b[0;34m=\u001b[0m \u001b[0mself\u001b[0m\u001b[0;34m.\u001b[0m\u001b[0mdataset\u001b[0m\u001b[0;34m[\u001b[0m\u001b[0mpossibly_batched_index\u001b[0m\u001b[0;34m]\u001b[0m\u001b[0;34m\u001b[0m\u001b[0;34m\u001b[0m\u001b[0m\n",
            "\u001b[0;32m/content/Siamese-LSTM-for-Semantic-Similarity-PyTorch-main/Siamese_LSTM/siamese_lstm/dataset/quora_dataset.py\u001b[0m in \u001b[0;36m__getitem__\u001b[0;34m(self, index)\u001b[0m\n\u001b[1;32m     32\u001b[0m         \u001b[0mq2_indices\u001b[0m \u001b[0;34m=\u001b[0m \u001b[0;34m[\u001b[0m\u001b[0;34m]\u001b[0m\u001b[0;34m\u001b[0m\u001b[0;34m\u001b[0m\u001b[0m\n\u001b[1;32m     33\u001b[0m         \u001b[0;32mfor\u001b[0m \u001b[0mword\u001b[0m \u001b[0;32min\u001b[0m \u001b[0mq2\u001b[0m\u001b[0;34m.\u001b[0m\u001b[0msplit\u001b[0m\u001b[0;34m(\u001b[0m\u001b[0;34m)\u001b[0m\u001b[0;34m:\u001b[0m\u001b[0;34m\u001b[0m\u001b[0;34m\u001b[0m\u001b[0m\n\u001b[0;32m---> 34\u001b[0;31m             \u001b[0mq2_indices\u001b[0m\u001b[0;34m.\u001b[0m\u001b[0mappend\u001b[0m\u001b[0;34m(\u001b[0m\u001b[0mself\u001b[0m\u001b[0;34m.\u001b[0m\u001b[0mword2index\u001b[0m\u001b[0;34m[\u001b[0m\u001b[0mword\u001b[0m\u001b[0;34m]\u001b[0m\u001b[0;34m)\u001b[0m\u001b[0;34m\u001b[0m\u001b[0;34m\u001b[0m\u001b[0m\n\u001b[0m\u001b[1;32m     35\u001b[0m \u001b[0;34m\u001b[0m\u001b[0m\n\u001b[1;32m     36\u001b[0m         \u001b[0;31m# q1_indices and q2_indices are lists of indices against words used in the sentence\u001b[0m\u001b[0;34m\u001b[0m\u001b[0;34m\u001b[0m\u001b[0m\n",
            "\u001b[0;31mKeyError\u001b[0m: 'dinner'"
          ]
        }
      ]
    },
    {
      "cell_type": "code",
      "source": [],
      "metadata": {
        "id": "yiNotl8zs96L"
      },
      "execution_count": null,
      "outputs": []
    }
  ]
}